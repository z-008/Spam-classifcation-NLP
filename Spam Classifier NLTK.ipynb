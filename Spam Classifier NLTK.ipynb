{
 "cells": [
  {
   "cell_type": "code",
   "execution_count": 123,
   "id": "8078177b",
   "metadata": {},
   "outputs": [
    {
     "name": "stdout",
     "output_type": "stream",
     "text": [
      "Python: 3.8.8 (default, Apr 13 2021, 12:59:45) \n",
      "[Clang 10.0.0 ]\n",
      "NLTk: 3.6.1\n",
      "sklearn: 0.24.1\n",
      "pandas: 1.2.4\n",
      "numpy: 1.20.1\n"
     ]
    }
   ],
   "source": [
    "import sys\n",
    "import nltk\n",
    "import sklearn\n",
    "import pandas as pd\n",
    "import numpy as np\n",
    "\n",
    "print('Python: {}'.format(sys.version))\n",
    "print('NLTk: {}'.format(nltk.__version__))\n",
    "print('sklearn: {}'.format(sklearn.__version__))\n",
    "print('pandas: {}'.format(pd.__version__))\n",
    "print('numpy: {}'.format(np.__version__))"
   ]
  },
  {
   "cell_type": "code",
   "execution_count": 124,
   "id": "b935b11f",
   "metadata": {},
   "outputs": [],
   "source": [
    " text_df = pd.read_table('smsspamdata',header=None,encoding='utf-8')"
   ]
  },
  {
   "cell_type": "code",
   "execution_count": 125,
   "id": "0237b907",
   "metadata": {},
   "outputs": [
    {
     "name": "stdout",
     "output_type": "stream",
     "text": [
      "<class 'pandas.core.frame.DataFrame'>\n",
      "RangeIndex: 5572 entries, 0 to 5571\n",
      "Data columns (total 2 columns):\n",
      " #   Column  Non-Null Count  Dtype \n",
      "---  ------  --------------  ----- \n",
      " 0   0       5572 non-null   object\n",
      " 1   1       5572 non-null   object\n",
      "dtypes: object(2)\n",
      "memory usage: 87.2+ KB\n",
      "None\n",
      "      0                                                  1\n",
      "0   ham  Go until jurong point, crazy.. Available only ...\n",
      "1   ham                      Ok lar... Joking wif u oni...\n",
      "2  spam  Free entry in 2 a wkly comp to win FA Cup fina...\n",
      "3   ham  U dun say so early hor... U c already then say...\n",
      "4   ham  Nah I don't think he goes to usf, he lives aro...\n"
     ]
    }
   ],
   "source": [
    "print(text_df.info()) \n",
    "print(text_df.head())"
   ]
  },
  {
   "cell_type": "code",
   "execution_count": 126,
   "id": "c41d097d",
   "metadata": {},
   "outputs": [
    {
     "name": "stdout",
     "output_type": "stream",
     "text": [
      "ham     4825\n",
      "spam     747\n",
      "Name: 0, dtype: int64\n"
     ]
    }
   ],
   "source": [
    "classes = text_df[0]\n",
    "print(classes.value_counts())"
   ]
  },
  {
   "cell_type": "code",
   "execution_count": 127,
   "id": "6a1a6ad0",
   "metadata": {},
   "outputs": [
    {
     "name": "stdout",
     "output_type": "stream",
     "text": [
      "[0 0 1 0 0 1 0 0 1 1]\n"
     ]
    }
   ],
   "source": [
    "from sklearn.preprocessing import LabelEncoder\n",
    "\n",
    "encoder = LabelEncoder()\n",
    "Y = encoder.fit_transform(classes)\n",
    "print(Y[:10])"
   ]
  },
  {
   "cell_type": "code",
   "execution_count": 128,
   "id": "924064c4",
   "metadata": {},
   "outputs": [
    {
     "name": "stdout",
     "output_type": "stream",
     "text": [
      "0    Go until jurong point, crazy.. Available only ...\n",
      "1                        Ok lar... Joking wif u oni...\n",
      "2    Free entry in 2 a wkly comp to win FA Cup fina...\n",
      "3    U dun say so early hor... U c already then say...\n",
      "4    Nah I don't think he goes to usf, he lives aro...\n",
      "5    FreeMsg Hey there darling it's been 3 week's n...\n",
      "6    Even my brother is not like to speak with me. ...\n",
      "7    As per your request 'Melle Melle (Oru Minnamin...\n",
      "8    WINNER!! As a valued network customer you have...\n",
      "9    Had your mobile 11 months or more? U R entitle...\n",
      "Name: 1, dtype: object\n"
     ]
    }
   ],
   "source": [
    "text_messages = text_df[1]\n",
    "print(text_messages[:10])"
   ]
  },
  {
   "cell_type": "code",
   "execution_count": 129,
   "id": "1266612b",
   "metadata": {},
   "outputs": [
    {
     "name": "stderr",
     "output_type": "stream",
     "text": [
      "<ipython-input-129-3e57ffda9539>:1: FutureWarning: The default value of regex will change from True to False in a future version.\n",
      "  processed = text_messages.str.replace(r'^.+@[^\\.].*\\.[a-z]{2,}$','emailaddress')\n"
     ]
    }
   ],
   "source": [
    "processed = text_messages.str.replace(r'^.+@[^\\.].*\\.[a-z]{2,}$','emailaddress')"
   ]
  },
  {
   "cell_type": "code",
   "execution_count": 130,
   "id": "c2147586",
   "metadata": {},
   "outputs": [
    {
     "name": "stderr",
     "output_type": "stream",
     "text": [
      "<ipython-input-130-6d0f5bf35197>:1: FutureWarning: The default value of regex will change from True to False in a future version.\n",
      "  processed = processed.str.replace(r'^http\\://[a-zA-Z0-9\\-\\.]+\\.[a-zA-Z]{2,3}(/\\S*)?$','webaddress')\n"
     ]
    }
   ],
   "source": [
    "processed = processed.str.replace(r'^http\\://[a-zA-Z0-9\\-\\.]+\\.[a-zA-Z]{2,3}(/\\S*)?$','webaddress')"
   ]
  },
  {
   "cell_type": "code",
   "execution_count": 131,
   "id": "2f2afba3",
   "metadata": {},
   "outputs": [
    {
     "name": "stderr",
     "output_type": "stream",
     "text": [
      "<ipython-input-131-1d38814177de>:1: FutureWarning: The default value of regex will change from True to False in a future version.\n",
      "  processed = processed.str.replace(r'£|\\$','moneysymb')\n"
     ]
    }
   ],
   "source": [
    "processed = processed.str.replace(r'£|\\$','moneysymb')"
   ]
  },
  {
   "cell_type": "code",
   "execution_count": 132,
   "id": "8fb02f98",
   "metadata": {},
   "outputs": [
    {
     "name": "stderr",
     "output_type": "stream",
     "text": [
      "<ipython-input-132-a70e8fb66f69>:1: FutureWarning: The default value of regex will change from True to False in a future version.\n",
      "  processed = processed.str.replace(r'^\\(?[\\d]{3}\\)?[\\s-]?[\\d]{3}[\\s-]?[\\d]{4}$','phonenumbr')\n"
     ]
    }
   ],
   "source": [
    "processed = processed.str.replace(r'^\\(?[\\d]{3}\\)?[\\s-]?[\\d]{3}[\\s-]?[\\d]{4}$','phonenumbr')"
   ]
  },
  {
   "cell_type": "code",
   "execution_count": 133,
   "id": "33d82eb8",
   "metadata": {},
   "outputs": [
    {
     "name": "stderr",
     "output_type": "stream",
     "text": [
      "<ipython-input-133-1171abf10743>:1: FutureWarning: The default value of regex will change from True to False in a future version.\n",
      "  processed = processed.str.replace(r'\\d+(\\.\\d+)?','numbr')\n"
     ]
    }
   ],
   "source": [
    "processed = processed.str.replace(r'\\d+(\\.\\d+)?','numbr')"
   ]
  },
  {
   "cell_type": "code",
   "execution_count": 134,
   "id": "bec878b8",
   "metadata": {},
   "outputs": [
    {
     "name": "stderr",
     "output_type": "stream",
     "text": [
      "<ipython-input-134-cd0ff52052b0>:1: FutureWarning: The default value of regex will change from True to False in a future version.\n",
      "  processed = processed.str.replace(r'[^\\w\\d\\s]',' ')\n",
      "<ipython-input-134-cd0ff52052b0>:2: FutureWarning: The default value of regex will change from True to False in a future version.\n",
      "  processed = processed.str.replace(r'\\s+',' ')\n",
      "<ipython-input-134-cd0ff52052b0>:3: FutureWarning: The default value of regex will change from True to False in a future version.\n",
      "  processed = processed.str.replace(r'^\\s+|\\s+?$','')\n"
     ]
    }
   ],
   "source": [
    "processed = processed.str.replace(r'[^\\w\\d\\s]',' ')\n",
    "processed = processed.str.replace(r'\\s+',' ')\n",
    "processed = processed.str.replace(r'^\\s+|\\s+?$','')"
   ]
  },
  {
   "cell_type": "code",
   "execution_count": 135,
   "id": "32a23769",
   "metadata": {},
   "outputs": [
    {
     "name": "stdout",
     "output_type": "stream",
     "text": [
      "0     go until jurong point crazy available only in ...\n",
      "1                               ok lar joking wif u oni\n",
      "2     free entry in numbr a wkly comp to win fa cup ...\n",
      "3           u dun say so early hor u c already then say\n",
      "4     nah i don t think he goes to usf he lives arou...\n",
      "5     freemsg hey there darling it s been numbr week...\n",
      "6     even my brother is not like to speak with me t...\n",
      "7     as per your request melle melle oru minnaminun...\n",
      "8     winner as a valued network customer you have b...\n",
      "9     had your mobile numbr months or more u r entit...\n",
      "10    i m gonna be home soon and i don t want to tal...\n",
      "11    six chances to win cash from numbr to numbr nu...\n",
      "12    urgent you have won a numbr week free membersh...\n",
      "13    i ve been searching for the right words to tha...\n",
      "14                    i have a date on sunday with will\n",
      "15    xxxmobilemovieclub to use your credit click th...\n",
      "16                               oh k i m watching here\n",
      "17    eh u remember how numbr spell his name yes i d...\n",
      "18    fine if that s the way u feel that s the way i...\n",
      "19    england v macedonia dont miss the goals team n...\n",
      "20             is that seriously how you spell his name\n",
      "21    i m going to try for numbr months ha ha only j...\n",
      "22       so ü pay first lar then when is da stock comin\n",
      "23    aft i finish my lunch then i go str down lor a...\n",
      "24    ffffffffff alright no way i can meet up with y...\n",
      "25    just forced myself to eat a slice i m really n...\n",
      "26                        lol your always so convincing\n",
      "27    did you catch the bus are you frying an egg di...\n",
      "28    i m back amp we re packing the car now i ll le...\n",
      "29    ahhh work i vaguely remember that what does it...\n",
      "30    wait that s still not all that clear were you ...\n",
      "31    yeah he got in at numbr and was v apologetic n...\n",
      "32                         k tell me anything about you\n",
      "33    for fear of fainting with the of all that hous...\n",
      "34    thanks for your subscription to ringtone uk yo...\n",
      "35    yup ok i go home look at the timings then i ms...\n",
      "36       oops i ll let you know when my roommate s done\n",
      "37                         i see the letter b on my car\n",
      "38                                anything lor u decide\n",
      "39    hello how s you and how did saturday go i was ...\n",
      "Name: 1, dtype: object\n"
     ]
    }
   ],
   "source": [
    "processed = processed.str.lower()\n",
    "print(processed[:40])"
   ]
  },
  {
   "cell_type": "code",
   "execution_count": 136,
   "id": "c728b91a",
   "metadata": {},
   "outputs": [],
   "source": [
    "from nltk.corpus import stopwords\n",
    "\n",
    "stop_words = set(stopwords.words('english'))\n",
    "\n",
    "processed = processed.apply(lambda x: ' '.join(term for term in x.split() if term not in stop_words))"
   ]
  },
  {
   "cell_type": "code",
   "execution_count": 137,
   "id": "185680c0",
   "metadata": {},
   "outputs": [],
   "source": [
    "ps = nltk.PorterStemmer()\n",
    "\n",
    "processed = processed.apply(lambda x: ' '.join(ps.stem(term) for term in x.split()))"
   ]
  },
  {
   "cell_type": "code",
   "execution_count": 138,
   "id": "dbf5e585",
   "metadata": {},
   "outputs": [
    {
     "name": "stdout",
     "output_type": "stream",
     "text": [
      "0     go jurong point crazi avail bugi n great world...\n",
      "1                                 ok lar joke wif u oni\n",
      "2     free entri numbr wkli comp win fa cup final tk...\n",
      "3                   u dun say earli hor u c alreadi say\n",
      "4                  nah think goe usf live around though\n",
      "5     freemsg hey darl numbr week word back like fun...\n",
      "6         even brother like speak treat like aid patent\n",
      "7     per request mell mell oru minnaminungint nurun...\n",
      "8     winner valu network custom select receivea mon...\n",
      "9     mobil numbr month u r entitl updat latest colo...\n",
      "10    gonna home soon want talk stuff anymor tonight...\n",
      "11    six chanc win cash numbr numbr numbr pound txt...\n",
      "12    urgent numbr week free membership moneysymbnum...\n",
      "13    search right word thank breather promis wont t...\n",
      "14                                          date sunday\n",
      "15    xxxmobilemovieclub use credit click wap link n...\n",
      "16                                           oh k watch\n",
      "17    eh u rememb numbr spell name ye v naughti make...\n",
      "18                           fine way u feel way gota b\n",
      "19    england v macedonia dont miss goal team news t...\n",
      "20                                   serious spell name\n",
      "21                        go tri numbr month ha ha joke\n",
      "22                       ü pay first lar da stock comin\n",
      "23    aft finish lunch go str lor ard numbr smth lor...\n",
      "24                   ffffffffff alright way meet sooner\n",
      "25    forc eat slice realli hungri tho suck mark get...\n",
      "26                                    lol alway convinc\n",
      "27    catch bu fri egg make tea eat mom left dinner ...\n",
      "28                      back amp pack car let know room\n",
      "29                  ahhh work vagu rememb feel like lol\n",
      "30         wait still clear sure sarcast x want live us\n",
      "31    yeah got numbr v apologet n fallen actin like ...\n",
      "32                                         k tell anyth\n",
      "33                     fear faint housework quick cuppa\n",
      "34    thank subscript rington uk mobil charg moneysy...\n",
      "35    yup ok go home look time msg ü xuhui go learn ...\n",
      "36                            oop let know roommat done\n",
      "37                                     see letter b car\n",
      "38                                    anyth lor u decid\n",
      "39    hello saturday go text see decid anyth tomo tr...\n",
      "Name: 1, dtype: object\n"
     ]
    }
   ],
   "source": [
    "print (processed[:40])"
   ]
  },
  {
   "cell_type": "code",
   "execution_count": 139,
   "id": "dd4b2614",
   "metadata": {},
   "outputs": [],
   "source": [
    "from nltk.tokenize import word_tokenize\n",
    "\n",
    "#create a bag-of-words model\n",
    "all_words = []\n",
    "\n",
    "for message in processed:\n",
    "    words = word_tokenize(message)\n",
    "    for w in words:\n",
    "        all_words.append(w)\n",
    "    \n",
    "all_words = nltk.FreqDist(all_words)"
   ]
  },
  {
   "cell_type": "code",
   "execution_count": 140,
   "id": "ad69797d",
   "metadata": {},
   "outputs": [
    {
     "name": "stdout",
     "output_type": "stream",
     "text": [
      "Number of words: 6579\n",
      "Most common words: [('numbr', 2648), ('u', 1207), ('call', 674), ('go', 456), ('get', 451), ('ur', 391), ('gt', 318), ('lt', 316), ('come', 304), ('moneysymbnumbr', 303), ('ok', 293), ('free', 284), ('day', 276), ('know', 275), ('love', 266)]\n"
     ]
    }
   ],
   "source": [
    "print(\"Number of words: {}\".format(len(all_words)))\n",
    "print('Most common words: {}'.format(all_words.most_common(15)))"
   ]
  },
  {
   "cell_type": "code",
   "execution_count": 141,
   "id": "8190c190",
   "metadata": {},
   "outputs": [],
   "source": [
    "#use the 1500 most common words as features\n",
    "word_feature = list(all_words.keys())[:1500]"
   ]
  },
  {
   "cell_type": "code",
   "execution_count": 142,
   "id": "65a2009d",
   "metadata": {},
   "outputs": [
    {
     "name": "stdout",
     "output_type": "stream",
     "text": [
      "go\n",
      "jurong\n",
      "point\n",
      "crazi\n",
      "avail\n",
      "bugi\n",
      "n\n",
      "great\n",
      "world\n",
      "la\n",
      "e\n",
      "buffet\n",
      "cine\n",
      "got\n",
      "amor\n",
      "wat\n"
     ]
    }
   ],
   "source": [
    "# define a find_feature function\n",
    "def find_features(message):\n",
    "    words = word_tokenize(message)\n",
    "    features = {}\n",
    "    for word in word_feature:\n",
    "        features[word] = (word in words)\n",
    "    \n",
    "    return features\n",
    "\n",
    "#example\n",
    "\n",
    "features = find_features(processed[0])\n",
    "for key,value in features.items():\n",
    "    if value == True:\n",
    "        print (key)"
   ]
  },
  {
   "cell_type": "code",
   "execution_count": 105,
   "id": "30294ab8",
   "metadata": {},
   "outputs": [
    {
     "data": {
      "text/plain": [
       "'go jurong point crazi avail bugi n great world la e buffet cine got amor wat'"
      ]
     },
     "execution_count": 105,
     "metadata": {},
     "output_type": "execute_result"
    }
   ],
   "source": [
    "processed[0]"
   ]
  },
  {
   "cell_type": "code",
   "execution_count": 145,
   "id": "6c351ff7",
   "metadata": {},
   "outputs": [
    {
     "name": "stdout",
     "output_type": "stream",
     "text": [
      "['go', 'jurong', 'point', 'crazi', 'avail', 'bugi', 'n', 'great', 'world', 'la', 'e', 'buffet', 'cine', 'got', 'amor', 'wat', 'ok', 'lar', 'joke', 'wif', 'u', 'oni', 'free', 'entri', 'numbr', 'wkli', 'comp', 'win', 'fa', 'cup', 'final', 'tkt', 'numbrst', 'may', 'text', 'receiv', 'question', 'std', 'txt', 'rate', 'c', 'appli', 'numbrovernumbr', 'dun', 'say', 'earli', 'hor', 'alreadi', 'nah', 'think', 'goe', 'usf', 'live', 'around', 'though', 'freemsg', 'hey', 'darl', 'week', 'word', 'back', 'like', 'fun', 'still', 'tb', 'xxx', 'chg', 'send', 'moneysymbnumbr', 'rcv', 'even', 'brother', 'speak', 'treat', 'aid', 'patent', 'per', 'request', 'mell', 'oru', 'minnaminungint', 'nurungu', 'vettam', 'set', 'callertun', 'caller', 'press', 'copi', 'friend', 'winner', 'valu', 'network', 'custom', 'select', 'receivea', 'prize', 'reward', 'claim', 'call', 'code', 'klnumbr', 'valid', 'hour', 'mobil', 'month', 'r', 'entitl', 'updat', 'latest', 'colour', 'camera', 'co', 'gon', 'na', 'home', 'soon', 'want', 'talk', 'stuff', 'anymor', 'tonight', 'k', 'cri', 'enough', 'today', 'six', 'chanc', 'cash', 'pound', 'cshnumbr', 'cost', 'numbrp', 'day', 'numbrday', 'tsandc', 'repli', 'hl', 'info', 'urgent', 'membership', 'jackpot', 'www', 'dbuk', 'net', 'lccltd', 'pobox', 'numbrldnwnumbranumbrrwnumbr', 'search', 'right', 'thank', 'breather', 'promis', 'wont', 'take', 'help', 'grant', 'fulfil', 'wonder', 'bless', 'time', 'date', 'sunday', 'xxxmobilemovieclub', 'use', 'credit', 'click', 'wap', 'link', 'next', 'messag', 'http', 'com', 'qjkgighjjgcbl', 'oh', 'watch', 'eh', 'rememb', 'spell', 'name', 'ye', 'v', 'naughti', 'make', 'wet', 'fine', 'way', 'feel', 'gota', 'b', 'england', 'macedonia', 'dont', 'miss', 'goal', 'team', 'news', 'ur', 'nation', 'eg', 'tri', 'wale', 'scotland', 'numbrtxt', 'únumbr', 'poboxoxnumbrwnumbrwq', 'serious', 'ha', 'ü', 'pay', 'first', 'da', 'stock', 'comin', 'aft', 'finish', 'lunch', 'str', 'lor', 'ard', 'smth', 'ffffffffff', 'alright', 'meet', 'sooner', 'forc', 'eat', 'slice', 'realli', 'hungri', 'tho', 'suck', 'mark', 'get', 'worri', 'know', 'sick', 'turn', 'pizza', 'lol', 'alway', 'convinc', 'catch', 'bu', 'fri', 'egg', 'tea', 'mom', 'left', 'dinner', 'love', 'amp', 'pack', 'car', 'let', 'room', 'ahhh', 'work', 'vagu', 'wait', 'clear', 'sure', 'sarcast', 'x', 'us', 'yeah', 'apologet', 'fallen', 'actin', 'spoilt', 'child', 'caught', 'till', 'badli', 'cheer', 'tell', 'anyth', 'fear', 'faint', 'housework', 'quick', 'cuppa', 'subscript', 'rington', 'uk', 'charg', 'pleas', 'confirm', 'yup', 'look', 'msg', 'xuhui', 'learn', 'numbrnd', 'lesson', 'numbram', 'oop', 'roommat', 'done', 'see', 'letter', 'decid', 'hello', 'saturday', 'tomo', 'invit', 'pl', 'ahead', 'watt', 'weekend', 'abiola', 'forget', 'need', 'crave', 'sweet', 'arabian', 'steed', 'mmmmmm', 'yummi', 'rodger', 'burn', 'sm', 'nokia', 'camcord', 'deliveri', 'tomorrow', 'hope', 'man', 'well', 'endow', 'lt', 'gt', 'inch', 'hep', 'immunis', 'nigeria', 'fair', 'tyler', 'could', 'mayb', 'ask', 'bit', 'stubborn', 'hospit', 'kept', 'weak', 'sucker', 'saw', 'class', 'gram', 'usual', 'run', 'half', 'eighth', 'smarter', 'almost', 'whole', 'second', 'fyi', 'ride', 'morn', 'crash', 'place', 'wow', 'never', 'realiz', 'embarass', 'accomod', 'thought', 'sinc', 'best', 'seem', 'happi', 'cave', 'sorri', 'give', 'offer', 'ac', 'sptv', 'new', 'jersey', 'devil', 'detroit', 'red', 'wing', 'play', 'ice', 'hockey', 'correct', 'incorrect', 'end', 'mallika', 'sherawat', 'yesterday', 'find', 'url', 'congrat', 'year', 'special', 'cinema', 'pass', 'suprman', 'matrixnumbr', 'starwarsnumbr', 'etc', 'bxnumbr', 'ipnumbr', 'numbrw', 'numbrpm', 'later', 'reach', 'gauti', 'sehwag', 'odi', 'seri', 'pick', 'burger', 'move', 'pain', 'kill', 'good', 'girl', 'situat', 'seeker', 'part', 'check', 'iq', 'took', 'forev', 'come', 'doubl', 'hair', 'dresser', 'said', 'wun', 'cut', 'short', 'nice', 'advis', 'follow', 'recent', 'review', 'mob', 'award', 'bonu', 'song', 'dedic', 'valuabl', 'frnd', 'rpli', 'complimentari', 'trip', 'eurodisinc', 'trav', 'aco', 'entrynumbr', 'di', 'morefrmmob', 'shracomorsglsuplt', 'lsnumbr', 'numbraj', 'hear', 'divorc', 'barbi', 'ken', 'plane', 'wah', 'lucki', 'save', 'money', 'hee', 'hi', 'babe', 'im', 'wan', 'someth', 'xx', 'perform', 'machan', 'that', 'cool', 'gentleman', 'digniti', 'respect', 'peopl', 'much', 'shi', 'pa', 'oper', 'job', 'ta', 'earn', 'ah', 'stop', 'urgnt', 'real', 'yo', 'ticket', 'one', 'jacket', 'multi', 'start', 'came', 'bed', 'coin', 'factori', 'nitro', 'ela', 'kano', 'il', 'download', 'wen', 'stand', 'close', 'anoth', 'night', 'spent', 'late', 'afternoon', 'casualti', 'mean', 'stuffnumbrmoro', 'includ', 'sheet', 'smile', 'pleasur', 'troubl', 'pour', 'rain', 'sumnumbr', 'hurt', 'becoz', 'someon', 'servic', 'repres', 'guarante', 'havent', 'plan', 'buy', 'lido', 'show', 'collect', 'simpli', 'password', 'mix', 'verifi', 'usher', 'britney', 'fml', 'po', 'box', 'mknumbr', 'numbrh', 'numbrppw', 'telugu', 'movi', 'abt', 'load', 'loan', 'wk', 'hol', 'forgot', 'hairdress', 'appoint', 'four', 'shower', 'beforehand', 'caus', 'prob', 'coffe', 'anim', 'noth', 'els', 'okay', 'price', 'long', 'legal', 'ave', 'am', 'gone', 'numbrth', 'drive', 'test', 'yet', 'guess', 'gave', 'boston', 'men', 'chang', 'locat', 'nyc', 'cuz', 'signin', 'page', 'umma', 'life', 'vava', 'lot', 'dear', 'wish', 'birthday', 'truli', 'memor', 'aight', 'hit', 'would', 'ip', 'address', 'consid', 'comput', 'minecraft', 'server', 'grumpi', 'old', 'better', 'lie', 'busi', 'plural', 'noun', 'research', 'thing', 'scare', 'mah', 'loud', 'gent', 'contact', 'last', 'draw', 'knumbr', 'numbrhr', 'numbrppm', 'wa', 'openin', 'sentenc', 'formal', 'anyway', 'juz', 'tt', 'eatin', 'puttin', 'weight', 'haha', 'anythin', 'happen', 'enter', 'cabin', 'boss', 'felt', 'askd', 'apart', 'went', 'holiday', 'flight', 'inc', 'min', 'goodo', 'must', 'friday', 'potato', 'ratio', 'tortilla', 'hmm', 'uncl', 'inform', 'school', 'directli', 'food', 'privat', 'account', 'statement', 'unredeem', 'identifi', 'expir', 'landlin', 'boxnumbrwrnumbrc', 'appl', 'pair', 'malarki', 'voda', 'number', 'match', 'quot', 'standard', 'app', 'sao', 'mu', 'predict', 'yetund', 'sent', 'bother', 'involv', 'impos', 'apologis', 'del', 'bak', 'sum', 'lucyxx', 'tmorrow', 'answer', 'sunshin', 'quiz', 'q', 'top', 'soni', 'dvd', 'player', 'countri', 'algarv', 'ansr', 'sp', 'tyron', 'laid', 'dog', 'direct', 'join', 'largest', 'bt', 'txting', 'gravel', 'nt', 'ecnumbra', 'emailaddress', 'befor', 'activ', 'chat', 'svc', 'hardcor', 'age', 'yr', 'lazi', 'type', 'lect', 'pouch', 'sir', 'mail', 'swt', 'nver', 'tire', 'littl', 'lovabl', 'person', 'coz', 'somtim', 'occupi', 'biggest', 'heart', 'gud', 'ninumbr', 'open', 'ya', 'dot', 'what', 'staff', 'randi', 'sexi', 'femal', 'local', 'luv', 'netcollex', 'ltd', 'ummma', 'begin', 'qatar', 'pray', 'hard', 'delet', 'sindu', 'birla', 'soft', 'wine', 'flow', 'thk', 'plaza', 'typic', 'everywher', 'dirt', 'floor', 'window', 'shirt', 'sometim', 'mouth', 'dream', 'without', 'chore', 'joy', 'tv', 'exist', 'hail', 'mist', 'becom', 'aaooooright', 'leav', 'hous', 'interview', 'boy', 'annonc', 'arrang', 'keep', 'safe', 'envi', 'everyon', 'parent', 'hand', 'excit', 'spend', 'bootydeli', 'f', 'bangbab', 'order', 'content', 'goto', 'bangb', 'internet', 'menu', 'cultur', 'modul', 'snumbr', 'avoid', 'missunderstd', 'wit', 'belov', 'escap', 'fanci', 'bridg', 'lager', 'complet', 'form', 'clark', 'also', 'utter', 'wast', 'axi', 'bank', 'hmmm', 'hop', 'muz', 'discuss', 'liao', 'bloodi', 'hell', 'cant', 'believ', 'surnam', 'mr', 'ill', 'clue', 'spanish', 'bath', 'carlo', 'mall', 'stay', 'til', 'smoke', 'moneysymb', 'worth', 'doesnt', 'log', 'spoke', 'maneesha', 'satisfi', 'experi', 'toll', 'lift', 'especi', 'approach', 'studi', 'grnumbr', 'trust', 'guy', 'bye', 'handsom', 'toward', 'mummi', 'boytoy', 'awesom', 'minut', 'freephon', 'xma', 'radio', 'ju', 'si', 'uniqu', 'august', 'areyouuniqu', 'leagu', 'touch', 'deal', 'cours', 'howev', 'suggest', 'abl', 'or', 'everi', 'stool', 'settl', 'wishin', 'mrng', 'hav', 'stori', 'hamster', 'dead', 'tmr', 'orchard', 'mrt', 'kate', 'babyjontet', 'found', 'enc', 'buck', 'darlin', 'ive', 'colleg', 'refil', 'success', 'inr', 'decim', 'keralacircl', 'prepaid', 'balanc', 'rs', 'transact', 'id', 'kr', 'goodmorn', 'sleep', 'ga', 'alter', 'dat', 'ericsson', 'oso', 'can', 'not', 'oredi', 'straight', 'dogg', 'connect', 'refund', 'bill', 'shoot', 'big', 'readi', 'bruv', 'break', 'semest', 'noe', 'leh', 'sound', 'head', 'slept', 'past', 'easi', 'sen', 'exam', 'march', 'atm', 'regist', 'os', 'ubandu', 'instal', 'disk', 'import', 'file', 'system', 'repair', 'shop', 'romant', 'nite', 'sceneri', 'tc', 'biz', 'numbroptout', 'numbrgbp', 'mtmsgnumbr', 'appreci', 'partner', 'career', 'flyng', 'horo', 'star', 'sign', 'g', 'ari', 'compani', 'elama', 'mudyadhu', 'strict', 'teacher', 'bcoz', 'teach', 'conduct', 'gandhipuram', 'walk', 'cross', 'road', 'side', 'street', 'rubber', 'batteri', 'die', 'flirt', 'sam', 'recd', 'thirtyeight', 'penc', 'print', 'upstair', 'closer', 'wil', 'theori', 'argument', 'lose', 'argu', 'kick', 'secret', 'admir', 'reveal', 'tomarrow', 'laptop', 'case', 'pleassssssseeeee', 'tel', 'avent', 'sportsx', 'shine', 'meant', 'although', 'told', 'baig', 'face', 'fr', 'thanx', 'everyth', 'commerci', 'websit', 'slipper', 'kalli', 'bat', 'inning', 'didnt', 'goodnight', 'fix', 'wake', 'dearli', 'congratul', 'cd', 'voucher', 'numbrgift', 'music', 'tnc', 'ldew', 'comnumbrwinnumbrppmxnumbragenumbr', 'ranjith', 'cal', 'drpd', 'deeraj', 'deepak', 'numbrmin', 'hold', 'bcum', 'angri', 'wid', 'dnt', 'childish', 'true', 'deep', 'affect', 'care', 'kettoda', 'manda', 'up', 'ship', 'numbrwk', 'usp', 'lag', 'bribe', 'nipost', 'lemm', 'necessarili', 'expect', 'headin', 'mmm', 'jolt', 'suzi', 'lover', 'video', 'handset', 'anytim', 'unlimit', 'park', 'mini', 'disturb', 'luton', 'ring', 'h', 'horni', 'nake', 'hot', 'unsubscrib', 'dint', 'wana', 'sometm', 'clubnumbrmobil', 'choos', 'club', 'clubnumbr', 'boxnumbr', 'numbrwt', 'evo', 'flash', 'jealou', 'singl', 'chart', 'qualiti', 'sort', 'narcot', 'sunni', 'ray', 'blue', 'bay', 'hmv', 'genuin', 'numbrperc', 'might', 'object', 'bf', 'rob', 'mack', 'gf', 'theater', 'celebr', 'full', 'swing', 'tool', 'definit', 'gdeve', 'far', 'oki', 'ahold', 'anybodi', 'throw', 'babi', 'cruisin', 'fone', 'jenni', 'ge', 'shall', 'tonit', 'varunnathu', 'edukkukaye', 'raksha', 'ollu', 'sens', 'gautham', 'haf', 'stupid', 'cam', 'buzi', 'accident', 'resend', 'phone', 'upgrad', 'sim', 'card', 'loyalti', 'numbrthfeb', 'unless', 'gurl', 'appropri', 'teas', 'plz', 'rose', 'grave', 'bslvyl', 'somebodi', 'high', 'diesel', 'shit', 'shock', 'scari', 'imagin', 'def', 'somewher', 'taxi', 'fridg', 'meal', 'womdarful', 'actor', 'blind', 'numbru', 'roddsnumbr', 'aberdeen', 'unit', 'kingdom', 'img', 'w', 'icmbnumbrcktznumbrrnumbr', 'hide', 'remb', 'book', 'jo', 'friendship', 'hang', 'thread', 'themob', 'newest', 'game', 'tone', 'gossip', 'sport', 'fit', 'funki', 'garag', 'key', 'bookshelf', 'accept', 'sister', 'dearnumbr', 'bestnumbr', 'closnumbr', 'lvblefrnd', 'jstfrnd', 'cutefrnd', 'lifpartnr', 'belovd', 'swtheart', 'bstfrnd', 'enemi', 'smart', 'weekli', 'cs', 'winnersclub', 'mnumbr', 'numbruz', 'gbpnumbr', 'normal', 'rest', 'mylif', 'wot', 'lost', 'made', 'advanc', 'pongal', 'kb', 'power', 'yoga', 'dunno', 'tahan', 'anot', 'lo', 'dude', 'afraid', 'decemb', 'numbrmth', 'cake', 'merri', 'christma', 'kiss', 'cud', 'ppl', 'gona', 'lnumbr', 'buse', 'waitin', 'pete', 'guild', 'bristol', 'problem', 'track', 'record', 'read', 'women', 'light', 'apo', 'return', 'immedi', 'germani', 'line', 'via', 'access', 'prepay', 'evapor', 'violat', 'privaci', 'steal', 'employ', 'paperwork', 'report', 'supervisor', 'valentin', 'lifetim', 'rcvd', 'custcar', 'daaaaa', 'dine', 'surf', 'post', 'wiv', 'carolin', 'favourit', 'stranger', 'interest', 'two', 'round', 'gudnit', 'practic', 'yiju', 'huim', 'num', 'small', 'prestig', 'shag', 'sextextuk', 'xxuk', 'jeremiah', 'iphon', 'apeshit', 'ever', 'misbehav', 'slap', 'urself', 'fault', 'basic', 'figur', 'alcohol', 'jay', 'weed', 'ish', 'ago', 'wtf', 'onam', 'sirji', 'met', 'insur', 'insha', 'allah', 'rakhesh', 'ex', 'tata', 'aig', 'tissco', 'tayseer', 'current', 'maxim', 'cc', 'hg', 'suitenumbr', 'numbrland', 'row', 'wnumbrjnumbrhl', 'unemploy', 'moment', 'st', 'andrew', 'cold', 'chikku', 'db', 'audrey', 'statu', 'forward', 'dawn', 'refresh', 'aliv', 'breath', 'air', 'z', 'update_now', 'motorola', 'sonyericsson', 'bluetooth', 'orang', 'mobileupdnumbr', 'callnumbroptout', 'fnumbrq', 'discount', 'rpnumbr', 'regalportfolio', 'uniform', 'geeee', 'woke', 'cuddl', 'spoil', 'agre', 'will', 'refer', 'tnumbr', 'gbp', 'seen', 'recognis', 'lindsay', 'sigh', 'bar', 'ptbo', 'heron', 'payasam', 'rinu', 'bring', 'taught', 'becau', 'he', 'project', 'prabu', 'mistak', 'bodi', 'quit', 'slow', 'guid', 'ovul', 'relax', 'reason', 'followin', 'coupl', 'wallet', 'numbrmonth', 'nnumbrdx', 'owl', 'lick', 'mm', 'rental', 'mobilesdirect', 'ornumbrstoptxt', 'huh', 'sat', 'intro', 'pilat', 'kickbox', 'offic', 'lap', 'shut', 'bout', 'numbrish', 'calcul', 'period', 'actual', 'rock', 'put', 'pictur', 'ass', 'facebook', 'al', 'salam', 'wahleykkum', 'share', 'grace', 'god', 'inshah', 'visitor', 'india', 'field', 'quickli', 'administr', 'poli', 'numbrxmoneysymbnumbrpw', 'emoneysymbnd', 'chechi', 'cream', 'none', 'yep', 'loxahatche', 'tree', 'stoner', 'slightli', 'disastr', 'pm', 'fav', 'wld', 'drink', 'busetop', 'sender', 'fullonsm', 'iron', 'yan', 'jiu', 'skip', 'den', 'blah', 'wendi', 'l', 'boxnumbrsknumbrch', 'whatsup', 'competit', 'txttowin', 'logo', 'namenumbr', 'mobno', 'adam', 'eve', 'yahoo', 'poboxnumbrwnumbrwq', 'txtno', 'ad', 'poboxnumbrnnumbrtfnumbrp', 'siva', 'hostel', 'aha', 'land', 'voic', 'express', 'sentiment', 'rowdi', 'ful', 'attitud']\n"
     ]
    }
   ],
   "source": [
    "print(word_feature)"
   ]
  },
  {
   "cell_type": "code",
   "execution_count": 149,
   "id": "f58b8fbd",
   "metadata": {},
   "outputs": [],
   "source": [
    "# find features for all messages\n",
    "messages = list(zip(processed,Y))\n",
    "\n",
    "seed = 1\n",
    "np.random.seed = seed\n",
    "np.random.shuffle(messages)\n",
    "\n",
    "#call find_features function for each SMS messages\n",
    "\n",
    "featuresets = [(find_features(text),label) for (text,label) in messages]"
   ]
  },
  {
   "cell_type": "code",
   "execution_count": 151,
   "id": "bb2b91f2",
   "metadata": {},
   "outputs": [],
   "source": [
    "# split training and testing data sets using sklearn\n",
    "\n",
    "from sklearn import model_selection\n",
    "\n",
    "training, testing = model_selection.train_test_split(featuresets, test_size = 0.25, random_state = seed)"
   ]
  },
  {
   "cell_type": "code",
   "execution_count": 152,
   "id": "d0c78184",
   "metadata": {},
   "outputs": [
    {
     "name": "stdout",
     "output_type": "stream",
     "text": [
      "Training: 4179\n",
      "Testing: 1393\n"
     ]
    }
   ],
   "source": [
    "print('Training: {}'.format(len(training)))\n",
    "print('Testing: {}'.format(len(testing)))"
   ]
  },
  {
   "cell_type": "code",
   "execution_count": 173,
   "id": "c1af4ed4",
   "metadata": {},
   "outputs": [
    {
     "name": "stdout",
     "output_type": "stream",
     "text": [
      "SVC Accuracy:98.56424982053123\n"
     ]
    }
   ],
   "source": [
    "from nltk.classify.scikitlearn import SklearnClassifier\n",
    "from sklearn.svm import SVC\n",
    "\n",
    "model = SklearnClassifier(SVC(kernel='linear'))\n",
    "\n",
    "model.train(training)\n",
    "\n",
    "accuracy = nltk.classify.accuracy(model,testing)*100\n",
    "print('SVC Accuracy:{}'.format(accuracy))"
   ]
  },
  {
   "cell_type": "code",
   "execution_count": 174,
   "id": "249724f1",
   "metadata": {},
   "outputs": [],
   "source": [
    "from sklearn.neighbors import KNeighborsClassifier\n",
    "from sklearn.tree import DecisionTreeClassifier\n",
    "from sklearn.ensemble import RandomForestClassifier\n",
    "from sklearn.linear_model import LogisticRegression, SGDClassifier\n",
    "from sklearn.naive_bayes import MultinomialNB\n",
    "from sklearn.svm import SVC\n",
    "from sklearn.metrics import classification_report, accuracy_score, confusion_matrix"
   ]
  },
  {
   "cell_type": "code",
   "execution_count": 175,
   "id": "40df1108",
   "metadata": {},
   "outputs": [],
   "source": [
    "names = ['K Nearest Neighbors','Decision Tree','Random Forest','Logistic Regression','SGD Classifier','Naive Bayes','SVM Linear']"
   ]
  },
  {
   "cell_type": "code",
   "execution_count": 176,
   "id": "8666e7cf",
   "metadata": {},
   "outputs": [
    {
     "name": "stdout",
     "output_type": "stream",
     "text": [
      "[('K Nearest Neighbors', KNeighborsClassifier()), ('Decision Tree', DecisionTreeClassifier()), ('Random Forest', RandomForestClassifier()), ('Logistic Regression', LogisticRegression()), ('SGD Classifier', SGDClassifier(max_iter=100)), ('Naive Bayes', MultinomialNB()), ('SVM Linear', SVC(kernel='linear'))]\n"
     ]
    }
   ],
   "source": [
    " classifier = [\n",
    "     KNeighborsClassifier(),\n",
    "     DecisionTreeClassifier(),\n",
    "     RandomForestClassifier(),\n",
    "     LogisticRegression(),\n",
    "     SGDClassifier(max_iter = 100),\n",
    "     MultinomialNB(),\n",
    "     SVC(kernel = 'linear')\n",
    " ]\n",
    "    \n",
    "models = list(zip(names,classifier))\n",
    "\n",
    "print(models)"
   ]
  },
  {
   "cell_type": "code",
   "execution_count": 177,
   "id": "1e604a44",
   "metadata": {},
   "outputs": [
    {
     "name": "stdout",
     "output_type": "stream",
     "text": [
      "K Nearest Neighbors:Accuracy:94.11342426417804\n",
      "Decision Tree:Accuracy:97.63101220387652\n",
      "Random Forest:Accuracy:98.49246231155779\n",
      "Logistic Regression:Accuracy:98.99497487437185\n",
      "SGD Classifier:Accuracy:98.7078248384781\n",
      "Naive Bayes:Accuracy:98.49246231155779\n",
      "SVM Linear:Accuracy:98.56424982053123\n"
     ]
    }
   ],
   "source": [
    "# wrap models in NLTK\n",
    "\n",
    "from nltk.classify.scikitlearn import SklearnClassifier\n",
    "\n",
    "for name, model in models:\n",
    "    nltk_model = SklearnClassifier(model)\n",
    "    nltk_model.train(training)\n",
    "    accuracy = nltk.classify.accuracy(nltk_model,testing)*100\n",
    "    print('{}:Accuracy:{}'.format(name,accuracy))"
   ]
  },
  {
   "cell_type": "code",
   "execution_count": 179,
   "id": "29bd6870",
   "metadata": {},
   "outputs": [
    {
     "name": "stdout",
     "output_type": "stream",
     "text": [
      "Ensemble Method Accuracy:98.77961234745155\n"
     ]
    }
   ],
   "source": [
    "# enselmble method - Voting Classifier\n",
    "from sklearn.ensemble import VotingClassifier\n",
    "\n",
    "names = ['K Nearest Neighbors','Decision Tree','Random Forest','Logistic Regression','SGD Classifier','Naive Bayes','SVM Linear']\n",
    "\n",
    "classifier = [\n",
    "     KNeighborsClassifier(),\n",
    "     DecisionTreeClassifier(),\n",
    "     RandomForestClassifier(),\n",
    "     LogisticRegression(),\n",
    "     SGDClassifier(max_iter = 100),\n",
    "     MultinomialNB(),\n",
    "     SVC(kernel = 'linear')\n",
    " ]\n",
    "\n",
    "models = list(zip(names,classifier))\n",
    "\n",
    "nltk_ensemble = SklearnClassifier(VotingClassifier(estimators = models, voting ='hard', n_jobs = -1))\n",
    "nltk_ensemble.train(training)\n",
    "accuracy = nltk.classify.accuracy(nltk_ensemble,testing)*100\n",
    "print('Ensemble Method Accuracy:{}'.format(accuracy))"
   ]
  },
  {
   "cell_type": "code",
   "execution_count": 181,
   "id": "c80a8d1e",
   "metadata": {},
   "outputs": [],
   "source": [
    "#make class label prediction for testing set\n",
    "\n",
    "txt_features, labels = zip(*testing)\n",
    "\n",
    "prediction = nltk_ensemble.classify_many(txt_features)"
   ]
  },
  {
   "cell_type": "code",
   "execution_count": 185,
   "id": "77a3b4f7",
   "metadata": {},
   "outputs": [
    {
     "name": "stdout",
     "output_type": "stream",
     "text": [
      "              precision    recall  f1-score   support\n",
      "\n",
      "           0       0.99      1.00      0.99      1192\n",
      "           1       0.99      0.92      0.96       201\n",
      "\n",
      "    accuracy                           0.99      1393\n",
      "   macro avg       0.99      0.96      0.97      1393\n",
      "weighted avg       0.99      0.99      0.99      1393\n",
      "\n"
     ]
    },
    {
     "data": {
      "text/html": [
       "<div>\n",
       "<style scoped>\n",
       "    .dataframe tbody tr th:only-of-type {\n",
       "        vertical-align: middle;\n",
       "    }\n",
       "\n",
       "    .dataframe tbody tr th {\n",
       "        vertical-align: top;\n",
       "    }\n",
       "\n",
       "    .dataframe thead tr th {\n",
       "        text-align: left;\n",
       "    }\n",
       "</style>\n",
       "<table border=\"1\" class=\"dataframe\">\n",
       "  <thead>\n",
       "    <tr>\n",
       "      <th></th>\n",
       "      <th></th>\n",
       "      <th colspan=\"2\" halign=\"left\">predicted</th>\n",
       "    </tr>\n",
       "    <tr>\n",
       "      <th></th>\n",
       "      <th></th>\n",
       "      <th>ham</th>\n",
       "      <th>spam</th>\n",
       "    </tr>\n",
       "  </thead>\n",
       "  <tbody>\n",
       "    <tr>\n",
       "      <th rowspan=\"2\" valign=\"top\">actual</th>\n",
       "      <th>ham</th>\n",
       "      <td>1191</td>\n",
       "      <td>1</td>\n",
       "    </tr>\n",
       "    <tr>\n",
       "      <th>spam</th>\n",
       "      <td>16</td>\n",
       "      <td>185</td>\n",
       "    </tr>\n",
       "  </tbody>\n",
       "</table>\n",
       "</div>"
      ],
      "text/plain": [
       "            predicted     \n",
       "                  ham spam\n",
       "actual ham       1191    1\n",
       "       spam        16  185"
      ]
     },
     "execution_count": 185,
     "metadata": {},
     "output_type": "execute_result"
    }
   ],
   "source": [
    "# print a confusion matrix and a classification report\n",
    "print(classification_report(labels,prediction))\n",
    "\n",
    "pd.DataFrame(confusion_matrix(labels, prediction),\n",
    "            index=[['actual', 'actual'], ['ham','spam']], \n",
    "            columns = [['predicted', 'predicted'], ['ham','spam']]\n",
    "            )\n"
   ]
  },
  {
   "cell_type": "code",
   "execution_count": null,
   "id": "b772f8e0",
   "metadata": {},
   "outputs": [],
   "source": []
  }
 ],
 "metadata": {
  "kernelspec": {
   "display_name": "Python 3",
   "language": "python",
   "name": "python3"
  },
  "language_info": {
   "codemirror_mode": {
    "name": "ipython",
    "version": 3
   },
   "file_extension": ".py",
   "mimetype": "text/x-python",
   "name": "python",
   "nbconvert_exporter": "python",
   "pygments_lexer": "ipython3",
   "version": "3.8.8"
  }
 },
 "nbformat": 4,
 "nbformat_minor": 5
}
